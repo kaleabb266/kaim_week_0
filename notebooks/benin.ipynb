{
 "cells": [
  {
   "cell_type": "code",
   "execution_count": null,
   "id": "c46676bf-8c1a-4795-b92a-f5ed4c0c33e4",
   "metadata": {},
   "outputs": [],
   "source": [
    "import pandas as pd\n",
    "import numpy as np\n",
    "import matplotlib.pyplot as plt\n",
    "from windrose import WindroseAxes\n",
    "import seaborn as sns\n",
    "from scipy.stats import zscore"
   ]
  },
  {
   "cell_type": "code",
   "execution_count": null,
   "id": "25ef7f20-1e2a-43f0-9454-678c87d89f09",
   "metadata": {},
   "outputs": [],
   "source": [
    "data_benin = pd.read_csv('../data/benin-malanville.csv')"
   ]
  },
  {
   "cell_type": "markdown",
   "id": "f7d7cefb-e1d1-4268-98ac-bc3600f3b5ce",
   "metadata": {},
   "source": [
    "## Data Overview"
   ]
  },
  {
   "cell_type": "code",
   "execution_count": null,
   "id": "ff7c39a6-06da-41ae-8713-08bbd6fabdb2",
   "metadata": {},
   "outputs": [],
   "source": [
    "data_benin.head()"
   ]
  },
  {
   "cell_type": "markdown",
   "id": "0cb7f138-ab38-49f7-ad46-3d536d868902",
   "metadata": {},
   "source": [
    "## Data cleaning"
   ]
  },
  {
   "cell_type": "code",
   "execution_count": null,
   "id": "e8fcf422-ff9d-44ea-9644-be5944a1f544",
   "metadata": {},
   "outputs": [],
   "source": [
    "missing_values = data_benin.isnull().sum()\n",
    "print(\"missing_values in each column\")\n",
    "print(missing_values)"
   ]
  },
  {
   "cell_type": "code",
   "execution_count": null,
   "id": "98fac76a-6ad2-4fbe-ae0b-2049ec954730",
   "metadata": {},
   "outputs": [],
   "source": [
    "columns_to_check = ['GHI', 'DNI', 'DHI', 'ModA', 'ModB', 'WS', 'WSgust', 'Precipitation']\n",
    "\n",
    "# Count negative values in each of these columns\n",
    "negative_values_report = data_benin[columns_to_check].lt(0).sum()\n",
    "print(\"Number of negative values in each column:\")\n",
    "print(negative_values_report)"
   ]
  },
  {
   "cell_type": "code",
   "execution_count": null,
   "id": "5566f045-4b94-4efe-bf41-6c0fac11aef8",
   "metadata": {},
   "outputs": [],
   "source": [
    "# Remove rows where any of the listed columns contain negative values\n",
    "data_benin_cleaned = data_benin[(data_benin[columns_to_check] >= 0).all(axis=1)]\n",
    "print(f\"Original DataFrame size: {data_benin.shape}\")\n",
    "print(f\"Cleaned DataFrame size: {data_benin_cleaned.shape}\")"
   ]
  },
  {
   "cell_type": "markdown",
   "id": "459e8b99-1676-46a1-8cf0-495b58f8a6e9",
   "metadata": {},
   "source": [
    "#### Exploratory Data Analysis (EDA)"
   ]
  },
  {
   "cell_type": "code",
   "execution_count": null,
   "id": "e33cb69b-7c63-4d0b-b5df-2373c9d8ded2",
   "metadata": {},
   "outputs": [],
   "source": [
    "\n",
    "data_benin_cleaned['Timestamp'] = pd.to_datetime(data_benin_cleaned['Timestamp'])  # Ensure Timestamp is in datetime format\n",
    "data_benin_cleaned.set_index('Timestamp', inplace=True)  # Set Timestamp as the index\n",
    "\n",
    "# Plot GHI over time\n",
    "plt.figure(figsize=(12, 6))\n",
    "plt.plot(data_benin_cleaned.index, data_benin_cleaned['GHI'], color='orange', label='GHI (W/m²)')\n",
    "plt.xlabel('Time')\n",
    "plt.ylabel('GHI (W/m²)')\n",
    "plt.title('Global Horizontal Irradiance (GHI) Over Time')\n",
    "plt.xticks(rotation=45)\n",
    "plt.legend()\n",
    "plt.show()\n"
   ]
  },
  {
   "cell_type": "code",
   "execution_count": null,
   "id": "4dcc674d-8d13-4646-a531-b51ff9bf1d1a",
   "metadata": {},
   "outputs": [],
   "source": [
    "# 2️ Plot the correlation heatmap\n",
    "columns_to_correlate = ['GHI', 'DNI', 'DHI', 'Tamb', 'RH', 'WS', 'TModA', 'TModB']\n",
    "correlation_matrix = data_benin_cleaned[columns_to_correlate].corr()\n",
    "\n",
    "plt.figure(figsize=(10, 8))\n",
    "sns.heatmap(correlation_matrix, annot=True, fmt=\".2f\", cmap=\"coolwarm\", cbar=True, linewidths=0.5)\n",
    "plt.title('Correlation Heatmap of Key Variables')\n",
    "plt.show()"
   ]
  },
  {
   "cell_type": "markdown",
   "id": "63576f8a",
   "metadata": {},
   "source": [
    "## Wind Analysis"
   ]
  },
  {
   "cell_type": "code",
   "execution_count": null,
   "id": "6233fb46",
   "metadata": {},
   "outputs": [],
   "source": [
    "# ----------------------- Wind Analysis -----------------------\n",
    "# Wind Rose Plot\n",
    "def wind_rose_plot(data_benin_cleaned):\n",
    "    ax = WindroseAxes.from_ax()\n",
    "    ax.bar(data_benin_cleaned['WD'], data_benin_cleaned['WS'], normed=True, opening=0.8, edgecolor='white')\n",
    "    ax.set_legend(title=\"Wind Speed (m/s)\")\n",
    "    plt.title(\"Wind Rose\")\n",
    "    plt.show()\n",
    "\n",
    "wind_rose_plot(data_benin_cleaned)"
   ]
  },
  {
   "cell_type": "markdown",
   "id": "617b4b7e",
   "metadata": {},
   "source": [
    "## Temperature Analysis"
   ]
  },
  {
   "cell_type": "code",
   "execution_count": null,
   "id": "2cbf07e9",
   "metadata": {},
   "outputs": [],
   "source": [
    "\n",
    "# ----------------------- Temperature Analysis -----------------------\n",
    "# Relative Humidity vs Temperature and Solar Radiation\n",
    "sns.scatterplot(x=data_benin_cleaned['RH'], y=data_benin_cleaned['Tamb'], hue=data_benin_cleaned['GHI'], palette='coolwarm')\n",
    "plt.title(\"RH vs Temperature with GHI as hue\")\n",
    "plt.xlabel(\"Relative Humidity (%)\")\n",
    "plt.ylabel(\"Temperature (°C)\")\n",
    "plt.show()"
   ]
  },
  {
   "cell_type": "markdown",
   "id": "a96b08e1",
   "metadata": {},
   "source": [
    "## Histograms "
   ]
  },
  {
   "cell_type": "code",
   "execution_count": null,
   "id": "769ddb5c",
   "metadata": {},
   "outputs": [],
   "source": [
    "# ----------------------- Histograms -----------------------\n",
    "variables = ['GHI', 'DNI', 'DHI', 'WS', 'Tamb']\n",
    "for var in variables:\n",
    "    plt.hist(data_benin_cleaned[var].dropna(), bins=30, alpha=0.7, label=var)\n",
    "    plt.title(f\"Histogram of {var}\")\n",
    "    plt.xlabel(var)\n",
    "    plt.ylabel(\"Frequency\")\n",
    "    plt.show()\n"
   ]
  },
  {
   "cell_type": "markdown",
   "id": "453c2b36",
   "metadata": {},
   "source": [
    "## Z-Score Analysis"
   ]
  },
  {
   "cell_type": "code",
   "execution_count": null,
   "id": "a49f8c39",
   "metadata": {},
   "outputs": [],
   "source": [
    "# ----------------------- Z-Score Analysis -----------------------\n",
    "# Flagging Anomalous Points\n",
    "data_benin_cleaned['GHI_Z'] = zscore(data_benin_cleaned['GHI'])\n",
    "anomalies = data_benin_cleaned[np.abs(data_benin_cleaned['GHI_Z']) > 3]\n",
    "print(f\"Number of anomalies in GHI: {len(anomalies)}\")"
   ]
  },
  {
   "cell_type": "markdown",
   "id": "97a1dc4e",
   "metadata": {},
   "source": [
    "## Bubble Chart"
   ]
  },
  {
   "cell_type": "code",
   "execution_count": null,
   "id": "c0e94bbb",
   "metadata": {},
   "outputs": [],
   "source": [
    "# ----------------------- Bubble Chart -----------------------\n",
    "# GHI vs Tamb vs WS with RH as bubble size\n",
    "plt.scatter(data_benin_cleaned['Tamb'], data_benin_cleaned['GHI'], s=data_benin_cleaned['RH'], alpha=0.5, label=\"RH size\")\n",
    "plt.title(\"GHI vs Tamb vs WS (Bubble size = RH)\")\n",
    "plt.xlabel(\"Temperature (°C)\")\n",
    "plt.ylabel(\"Global Horizontal Irradiance (GHI)\")\n",
    "plt.show()"
   ]
  }
 ],
 "metadata": {
  "kernelspec": {
   "display_name": "Python 3",
   "language": "python",
   "name": "python3"
  },
  "language_info": {
   "codemirror_mode": {
    "name": "ipython",
    "version": 3
   },
   "file_extension": ".py",
   "mimetype": "text/x-python",
   "name": "python",
   "nbconvert_exporter": "python",
   "pygments_lexer": "ipython3",
   "version": "3.12.7"
  }
 },
 "nbformat": 4,
 "nbformat_minor": 5
}
